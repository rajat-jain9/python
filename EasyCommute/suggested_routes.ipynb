{
 "cells": [
  {
   "cell_type": "code",
   "execution_count": 63,
   "metadata": {},
   "outputs": [
    {
     "name": "stdout",
     "output_type": "stream",
     "text": [
      "(822, 7)\n",
      "(386, 7)\n",
      "Index(['Commuter ID', 'From', 'To', 'Start Time Hour', 'Start Time Minutes',\n",
      "       'End Time Hour', 'End Time Minutes'],\n",
      "      dtype='object')\n"
     ]
    },
    {
     "data": {
      "text/html": [
       "<div>\n",
       "<style>\n",
       "    .dataframe thead tr:only-child th {\n",
       "        text-align: right;\n",
       "    }\n",
       "\n",
       "    .dataframe thead th {\n",
       "        text-align: left;\n",
       "    }\n",
       "\n",
       "    .dataframe tbody tr th {\n",
       "        vertical-align: top;\n",
       "    }\n",
       "</style>\n",
       "<table border=\"1\" class=\"dataframe\">\n",
       "  <thead>\n",
       "    <tr style=\"text-align: right;\">\n",
       "      <th></th>\n",
       "      <th>Commuter ID</th>\n",
       "      <th>From</th>\n",
       "      <th>To</th>\n",
       "      <th>Start Time Hour</th>\n",
       "      <th>Start Time Minutes</th>\n",
       "      <th>End Time Hour</th>\n",
       "      <th>End Time Minutes</th>\n",
       "    </tr>\n",
       "  </thead>\n",
       "  <tbody>\n",
       "    <tr>\n",
       "      <th>0</th>\n",
       "      <td>Yanamandra Siddharth - 961 yanamandra.siddhart...</td>\n",
       "      <td>Malkajgiri, Secunderabad, Telangana, India</td>\n",
       "      <td>Nizampet X Road, Nizampet Road, Kukatpally, Hy...</td>\n",
       "      <td>7</td>\n",
       "      <td>30</td>\n",
       "      <td>17</td>\n",
       "      <td>30</td>\n",
       "    </tr>\n",
       "    <tr>\n",
       "      <th>1</th>\n",
       "      <td>Pavan Kumar - 44900 pavankumar627@gmail.com 80...</td>\n",
       "      <td>Malkajgiri</td>\n",
       "      <td>Q city</td>\n",
       "      <td>7</td>\n",
       "      <td>30</td>\n",
       "      <td>5</td>\n",
       "      <td>30</td>\n",
       "    </tr>\n",
       "    <tr>\n",
       "      <th>2</th>\n",
       "      <td>Vijay - 1959 a.vijaykumar@live.com 9000538077</td>\n",
       "      <td>Malkajgiri, Goutham Nagar, Secunderabad, Telan...</td>\n",
       "      <td>Ramky Towers Commercial Block, Gachibowli, Hyd...</td>\n",
       "      <td>12</td>\n",
       "      <td>45</td>\n",
       "      <td>12</td>\n",
       "      <td>32</td>\n",
       "    </tr>\n",
       "    <tr>\n",
       "      <th>3</th>\n",
       "      <td>lakshmi sneha - 2635 lakshmi.sneha91@gmail.com...</td>\n",
       "      <td>malkajgiri</td>\n",
       "      <td>wipro</td>\n",
       "      <td>11</td>\n",
       "      <td>30</td>\n",
       "      <td>11</td>\n",
       "      <td>30</td>\n",
       "    </tr>\n",
       "    <tr>\n",
       "      <th>4</th>\n",
       "      <td>Savan kumar - 2304 vanaparthi.savan@gmail.com ...</td>\n",
       "      <td>Malkajgiri Road, Lalaguda North, Hyderabad, Te...</td>\n",
       "      <td>Wipro Circle, ISB Road, Financial District, Hy...</td>\n",
       "      <td>15</td>\n",
       "      <td>30</td>\n",
       "      <td>2</td>\n",
       "      <td>30</td>\n",
       "    </tr>\n",
       "  </tbody>\n",
       "</table>\n",
       "</div>"
      ],
      "text/plain": [
       "                                         Commuter ID  \\\n",
       "0  Yanamandra Siddharth - 961 yanamandra.siddhart...   \n",
       "1  Pavan Kumar - 44900 pavankumar627@gmail.com 80...   \n",
       "2      Vijay - 1959 a.vijaykumar@live.com 9000538077   \n",
       "3  lakshmi sneha - 2635 lakshmi.sneha91@gmail.com...   \n",
       "4  Savan kumar - 2304 vanaparthi.savan@gmail.com ...   \n",
       "\n",
       "                                                From  \\\n",
       "0         Malkajgiri, Secunderabad, Telangana, India   \n",
       "1                                         Malkajgiri   \n",
       "2  Malkajgiri, Goutham Nagar, Secunderabad, Telan...   \n",
       "3                                         malkajgiri   \n",
       "4  Malkajgiri Road, Lalaguda North, Hyderabad, Te...   \n",
       "\n",
       "                                                  To  Start Time Hour  \\\n",
       "0  Nizampet X Road, Nizampet Road, Kukatpally, Hy...                7   \n",
       "1                                             Q city                7   \n",
       "2  Ramky Towers Commercial Block, Gachibowli, Hyd...               12   \n",
       "3                                              wipro               11   \n",
       "4  Wipro Circle, ISB Road, Financial District, Hy...               15   \n",
       "\n",
       "   Start Time Minutes  End Time Hour  End Time Minutes  \n",
       "0                  30             17                30  \n",
       "1                  30              5                30  \n",
       "2                  45             12                32  \n",
       "3                  30             11                30  \n",
       "4                  30              2                30  "
      ]
     },
     "execution_count": 63,
     "metadata": {},
     "output_type": "execute_result"
    }
   ],
   "source": [
    "import pandas as pd\n",
    "import numpy as np\n",
    "\n",
    "filename = 'routes.csv'\n",
    "data = pd.DataFrame.from_csv(filename,header=0,sep=',',index_col=None)\n",
    "data.drop(['#','ID','Created At', 'Tx History','Booking History'], axis=1, inplace=True)\n",
    "print(data.shape)\n",
    "# Drop Dupicates\n",
    "data.drop_duplicates(keep=False,inplace=True)\n",
    "data.reset_index(drop=True,inplace=True)\n",
    "print(data.shape)\n",
    "print (data.columns)\n",
    "data.head()"
   ]
  },
  {
   "cell_type": "code",
   "execution_count": 64,
   "metadata": {},
   "outputs": [
    {
     "name": "stdout",
     "output_type": "stream",
     "text": [
      "Yanamandra Siddharth - 961 yanamandra.siddharth@gmail.com 8125610787\n"
     ]
    }
   ],
   "source": [
    "# Get commuter ID, email and phone numbers from the Commuter ID column\n",
    "commuterID = data.loc[0,'Commuter ID']\n",
    "print(commuterID)\n",
    "\n",
    "def getCommuterInfo(commuter_id):\n",
    "    name = commuterID.split('-')[0].strip()\n",
    "    rest = commuterID.split('-')[1].strip()\n",
    "    iD = rest.split(' ')[0]\n",
    "    emailID = rest.split(' ')[1]\n",
    "    ph = rest.split(' ')[2]\n",
    "    return name,iD,emailID,ph\n",
    "\n"
   ]
  },
  {
   "cell_type": "code",
   "execution_count": 65,
   "metadata": {},
   "outputs": [],
   "source": [
    "num = data.shape[0]\n",
    "\n",
    "data[\"Commuter_name\"] = \"\"\n",
    "data[\"Commuter_id\"] = \"\"\n",
    "data[\"Commuter_email\"] = \"\"\n",
    "data[\"Commuter_phone\"] = \"\"\n",
    "\n",
    "for i in range(num):\n",
    "    commuterID = data.loc[i,'Commuter ID']\n",
    "    name,iD,emailID,ph = getCommuterInfo(commuterID)\n",
    "    data.loc[i,\"Commuter_name\"] = name\n",
    "    data.loc[i,\"Commuter_id\"] = iD\n",
    "    data.loc[i,\"Commuter_email\"] = emailID\n",
    "    data.loc[i,\"Commuter_phone\"] = ph\n",
    "    \n",
    "    if i+1%500 == 0:\n",
    "        print(\"{} number of records have been processed\".format(i))\n"
   ]
  },
  {
   "cell_type": "code",
   "execution_count": 66,
   "metadata": {},
   "outputs": [
    {
     "data": {
      "text/html": [
       "<div>\n",
       "<style>\n",
       "    .dataframe thead tr:only-child th {\n",
       "        text-align: right;\n",
       "    }\n",
       "\n",
       "    .dataframe thead th {\n",
       "        text-align: left;\n",
       "    }\n",
       "\n",
       "    .dataframe tbody tr th {\n",
       "        vertical-align: top;\n",
       "    }\n",
       "</style>\n",
       "<table border=\"1\" class=\"dataframe\">\n",
       "  <thead>\n",
       "    <tr style=\"text-align: right;\">\n",
       "      <th></th>\n",
       "      <th>Commuter ID</th>\n",
       "      <th>From</th>\n",
       "      <th>To</th>\n",
       "      <th>Start Time Hour</th>\n",
       "      <th>Start Time Minutes</th>\n",
       "      <th>End Time Hour</th>\n",
       "      <th>End Time Minutes</th>\n",
       "      <th>Commuter_name</th>\n",
       "      <th>Commuter_id</th>\n",
       "      <th>Commuter_email</th>\n",
       "      <th>Commuter_phone</th>\n",
       "    </tr>\n",
       "  </thead>\n",
       "  <tbody>\n",
       "    <tr>\n",
       "      <th>384</th>\n",
       "      <td>Sriharsha - 46982 janaki.sriharsha@gmail.com 9...</td>\n",
       "      <td>Krupa Complex Bus Stop, Old Neredmet - Malkajg...</td>\n",
       "      <td>Laxmi Cyber City, Hyderabad, Telangana, India</td>\n",
       "      <td>10</td>\n",
       "      <td>30</td>\n",
       "      <td>6</td>\n",
       "      <td>30</td>\n",
       "      <td>Sriharsha</td>\n",
       "      <td>46982</td>\n",
       "      <td>janaki.sriharsha@gmail.com</td>\n",
       "      <td>9989491328</td>\n",
       "    </tr>\n",
       "    <tr>\n",
       "      <th>385</th>\n",
       "      <td>M V R P Raja Rao - 32520 venkatm1968@gmail.com...</td>\n",
       "      <td>ccpl Malkajgiri</td>\n",
       "      <td>karvy selinium tower</td>\n",
       "      <td>8</td>\n",
       "      <td>0</td>\n",
       "      <td>7</td>\n",
       "      <td>0</td>\n",
       "      <td>M V R P Raja Rao</td>\n",
       "      <td>32520</td>\n",
       "      <td>venkatm1968@gmail.com</td>\n",
       "      <td>9030038840</td>\n",
       "    </tr>\n",
       "  </tbody>\n",
       "</table>\n",
       "</div>"
      ],
      "text/plain": [
       "                                           Commuter ID  \\\n",
       "384  Sriharsha - 46982 janaki.sriharsha@gmail.com 9...   \n",
       "385  M V R P Raja Rao - 32520 venkatm1968@gmail.com...   \n",
       "\n",
       "                                                  From  \\\n",
       "384  Krupa Complex Bus Stop, Old Neredmet - Malkajg...   \n",
       "385                                    ccpl Malkajgiri   \n",
       "\n",
       "                                                To  Start Time Hour  \\\n",
       "384  Laxmi Cyber City, Hyderabad, Telangana, India               10   \n",
       "385                           karvy selinium tower                8   \n",
       "\n",
       "     Start Time Minutes  End Time Hour  End Time Minutes     Commuter_name  \\\n",
       "384                  30              6                30         Sriharsha   \n",
       "385                   0              7                 0  M V R P Raja Rao   \n",
       "\n",
       "    Commuter_id              Commuter_email Commuter_phone  \n",
       "384       46982  janaki.sriharsha@gmail.com     9989491328  \n",
       "385       32520       venkatm1968@gmail.com     9030038840  "
      ]
     },
     "execution_count": 66,
     "metadata": {},
     "output_type": "execute_result"
    }
   ],
   "source": [
    "data.tail(2)"
   ]
  },
  {
   "cell_type": "code",
   "execution_count": 67,
   "metadata": {},
   "outputs": [],
   "source": [
    "from datetime import datetime\n",
    "def gettime(hrs,mins):\n",
    "    \"\"\"\n",
    "        This function takes time information in hours\n",
    "        and minutes and convert it into time object \n",
    "    \"\"\"\n",
    "    if hrs > 12:\n",
    "        hrs = hrs - 12\n",
    "        timeString = '{} {} PM'.format(hrs,mins)\n",
    "    elif hrs == 0:\n",
    "        hrs = 12\n",
    "        timeString = '{} {} AM'.format(hrs,mins)\n",
    "    else:\n",
    "        timeString = '{} {} AM'.format(hrs,mins)\n",
    "        \n",
    "    datetime_object = datetime.strptime(timeString, '%I %M %p')\n",
    "    return datetime_object.time()"
   ]
  },
  {
   "cell_type": "code",
   "execution_count": 68,
   "metadata": {},
   "outputs": [],
   "source": [
    "data['start_time'] = \"\"\n",
    "data[\"end_time\"] = \"\"\n",
    "num = data.shape[0]\n",
    "\n",
    "for i in range(num):\n",
    "    start_time_hrs = data.loc[i,'Start Time Hour']\n",
    "    start_time_mins = data.loc[i,'Start Time Minutes']\n",
    "    data.loc[i,'start_time'] = gettime(start_time_hrs,start_time_mins)\n",
    "    \n",
    "    end_time_hrs = data.loc[i,'End Time Hour']\n",
    "    if end_time_hrs < 12:\n",
    "        end_time_hrs += 12\n",
    "    end_time_mins = data.loc[i,'End Time Minutes']\n",
    "    data.loc[i,'end_time'] = gettime(end_time_hrs,end_time_mins)\n",
    "    \n",
    "    \n",
    "    if i+1%500 == 0:\n",
    "        print(\"{} number of records have been processed\".format(i))\n"
   ]
  },
  {
   "cell_type": "code",
   "execution_count": 71,
   "metadata": {},
   "outputs": [],
   "source": [
    "data.tail()\n",
    "data.to_csv('updated_data.csv',sep=',',index=False)"
   ]
  },
  {
   "cell_type": "code",
   "execution_count": 69,
   "metadata": {},
   "outputs": [
    {
     "data": {
      "text/plain": [
       "(386, 13)"
      ]
     },
     "execution_count": 69,
     "metadata": {},
     "output_type": "execute_result"
    }
   ],
   "source": [
    "keywords = ['q city','waverock','wipro','gachibowli','dlf']"
   ]
  },
  {
   "cell_type": "code",
   "execution_count": null,
   "metadata": {
    "collapsed": true
   },
   "outputs": [],
   "source": []
  },
  {
   "cell_type": "code",
   "execution_count": null,
   "metadata": {
    "collapsed": true
   },
   "outputs": [],
   "source": []
  }
 ],
 "metadata": {
  "kernelspec": {
   "display_name": "Python 3",
   "language": "python",
   "name": "python3"
  },
  "language_info": {
   "codemirror_mode": {
    "name": "ipython",
    "version": 3
   },
   "file_extension": ".py",
   "mimetype": "text/x-python",
   "name": "python",
   "nbconvert_exporter": "python",
   "pygments_lexer": "ipython3",
   "version": "3.5.2"
  }
 },
 "nbformat": 4,
 "nbformat_minor": 2
}
